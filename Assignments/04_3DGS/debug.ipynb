{
 "cells": [
  {
   "cell_type": "code",
   "execution_count": 2,
   "metadata": {},
   "outputs": [],
   "source": [
    "import torch\n",
    "import numpy as np"
   ]
  },
  {
   "cell_type": "code",
   "execution_count": 18,
   "metadata": {},
   "outputs": [],
   "source": [
    "def compute_gaussian_values(\n",
    "    means2D: torch.Tensor,    # (N, 2)\n",
    "    covs2D: torch.Tensor,     # (N, 2, 2)\n",
    "    pixels: torch.Tensor      # (H, W, 2)\n",
    ") -> torch.Tensor:           # (N, H, W)\n",
    "    N = means2D.shape[0]\n",
    "    H, W = pixels.shape[:2]\n",
    "    \n",
    "    # Compute offset from mean (N, H, W, 2)\n",
    "    dx = pixels.unsqueeze(0) - means2D.reshape(N, 1, 1, 2)  # (N, H, W, 2)\n",
    "    \n",
    "    # Add small epsilon to diagonal for numerical stability\n",
    "    eps = 1e-4\n",
    "    covs2D = covs2D + eps * torch.eye(2, device=covs2D.device).unsqueeze(0)\n",
    "    \n",
    "    # Compute determinant for normalization\n",
    "    det = torch.det(covs2D)  # (N,)\n",
    "    inv_covs2D = torch.inverse(covs2D)  # (N, 2, 2)\n",
    "    \n",
    "    # Reshape dx for einsum: (N, H, W, 2) -> (N, H*W, 2)\n",
    "    dx_reshaped = dx.reshape(N, H * W, 2)  # (N, H*W, 2)\n",
    "    \n",
    "    # Compute exponent term using einsum\n",
    "    # Equation: 'nij,njk,nlk->nil'\n",
    "    # n: batch dimension (N)\n",
    "    # i: H*W dimension (flattened spatial dimensions)\n",
    "    # j, k: 2D covariance dimensions (2)\n",
    "    # l: H*W dimension (flattened spatial dimensions)\n",
    "    exponent = -0.5 * torch.einsum('nijk,nkl,nijl->nij', dx, inv_covs2D, dx)\n",
    "    \n",
    "    # Reshape exponent back to (N, H, W)\n",
    "    exponent = exponent.reshape(N, H, W)  # (N, H, W)\n",
    "    \n",
    "    # Compute gaussian values\n",
    "    gaussian = torch.exp(exponent) / (2 * np.pi * torch.sqrt(det)).unsqueeze(-1).unsqueeze(-1)  # (N, H, W)\n",
    "    \n",
    "    return gaussian"
   ]
  },
  {
   "cell_type": "code",
   "execution_count": 19,
   "metadata": {},
   "outputs": [],
   "source": [
    "# N=13, H=7, W=11\n",
    "means2D = torch.rand([13,2])\n",
    "covs2D = torch.rand([13, 2,2])\n",
    "pixels = torch.rand([7,11,2])"
   ]
  },
  {
   "cell_type": "code",
   "execution_count": 7,
   "metadata": {},
   "outputs": [
    {
     "name": "stdout",
     "output_type": "stream",
     "text": [
      "13 7 11\n"
     ]
    }
   ],
   "source": [
    "N = means2D.shape[0]\n",
    "H, W = pixels.shape[:2]\n",
    "print(N,H,W)"
   ]
  },
  {
   "cell_type": "code",
   "execution_count": 8,
   "metadata": {},
   "outputs": [
    {
     "name": "stdout",
     "output_type": "stream",
     "text": [
      "torch.Size([13, 7, 11, 2])\n"
     ]
    }
   ],
   "source": [
    "# Compute offset from mean (N, H, W, 2)\n",
    "dx = pixels.unsqueeze(0) - means2D.reshape(N, 1, 1, 2)  # (N, H, W, 2)\n",
    "print(dx.shape)"
   ]
  },
  {
   "cell_type": "code",
   "execution_count": 9,
   "metadata": {},
   "outputs": [],
   "source": [
    "# Add small epsilon to diagonal for numerical stability\n",
    "eps = 1e-4\n",
    "covs2D = covs2D + eps * torch.eye(2, device=covs2D.device).unsqueeze(0)\n",
    "\n",
    "# Compute determinant for normalization\n",
    "det = torch.det(covs2D)  # (N,)\n",
    "inv_covs2D = torch.inverse(covs2D)  # (N, 2, 2)\n",
    "\n",
    "# Reshape dx for einsum: (N, H, W, 2) -> (N, H*W, 2)\n",
    "dx_reshaped = dx.reshape(N, H * W, 2)  # (N, H*W, 2)\n"
   ]
  },
  {
   "cell_type": "code",
   "execution_count": 12,
   "metadata": {},
   "outputs": [
    {
     "data": {
      "text/plain": [
       "torch.Size([13])"
      ]
     },
     "execution_count": 12,
     "metadata": {},
     "output_type": "execute_result"
    }
   ],
   "source": [
    "dx_reshaped.shape\n",
    "det.shape"
   ]
  },
  {
   "cell_type": "code",
   "execution_count": 10,
   "metadata": {},
   "outputs": [
    {
     "name": "stdout",
     "output_type": "stream",
     "text": [
      "torch.Size([13, 77, 77])\n"
     ]
    }
   ],
   "source": [
    "\n",
    "# Compute exponent term using einsum\n",
    "# Equation: 'nij,njk,nlk->nil'\n",
    "# n: batch dimension (N)\n",
    "# i: H*W dimension (flattened spatial dimensions)\n",
    "# j, k: 2D covariance dimensions (2)\n",
    "# l: H*W dimension (flattened spatial dimensions)\n",
    "exponent = -0.5 * torch.einsum('nij,njk,nlk->nil', dx_reshaped, inv_covs2D, dx_reshaped)  # (N, H*W)\n",
    "print(exponent.shape)"
   ]
  },
  {
   "cell_type": "code",
   "execution_count": null,
   "metadata": {},
   "outputs": [],
   "source": [
    "\n",
    "# Reshape exponent back to (N, H, W)\n",
    "exponent = exponent.reshape(N, H, W)  # (N, H, W)\n",
    "\n",
    "# Compute gaussian values\n",
    "gaussian = torch.exp(exponent) / (2 * np.pi * torch.sqrt(det)).unsqueeze(-1).unsqueeze(-1)  # (N, H, W)\n"
   ]
  },
  {
   "cell_type": "code",
   "execution_count": 21,
   "metadata": {},
   "outputs": [
    {
     "data": {
      "text/plain": [
       "torch.Size([13, 7, 11])"
      ]
     },
     "execution_count": 21,
     "metadata": {},
     "output_type": "execute_result"
    }
   ],
   "source": [
    "dx = compute_gaussian_values(means2D,covs2D,pixels)\n",
    "dx.shape"
   ]
  },
  {
   "cell_type": "code",
   "execution_count": 16,
   "metadata": {},
   "outputs": [
    {
     "name": "stdout",
     "output_type": "stream",
     "text": [
      "tensor([10.6378, 18.2494, -4.0876])\n",
      "tensor([ 0.0940,  0.0548, -0.2446])\n"
     ]
    }
   ],
   "source": [
    "EEE = torch.rand([3,2,2])\n",
    "EEE = EEE + eps * torch.eye(2, device=EEE.device).unsqueeze(0)\n",
    "print(torch.det(torch.inverse(EEE)))\n",
    "print(torch.det(EEE))\n"
   ]
  }
 ],
 "metadata": {
  "kernelspec": {
   "display_name": "Python 3.12.8 ('DIP')",
   "language": "python",
   "name": "python3"
  },
  "language_info": {
   "codemirror_mode": {
    "name": "ipython",
    "version": 3
   },
   "file_extension": ".py",
   "mimetype": "text/x-python",
   "name": "python",
   "nbconvert_exporter": "python",
   "pygments_lexer": "ipython3",
   "version": "3.12.8"
  },
  "orig_nbformat": 4,
  "vscode": {
   "interpreter": {
    "hash": "8576c209d669f9f249b4a93c88779baecf9d2c11234777ef4000968ab18e779f"
   }
  }
 },
 "nbformat": 4,
 "nbformat_minor": 2
}
