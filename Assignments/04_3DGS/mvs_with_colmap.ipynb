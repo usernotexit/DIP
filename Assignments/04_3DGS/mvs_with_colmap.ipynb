{
 "cells": [
  {
   "cell_type": "code",
   "execution_count": 1,
   "metadata": {},
   "outputs": [],
   "source": [
    "import os\n",
    "import subprocess\n",
    "import argparse"
   ]
  },
  {
   "cell_type": "code",
   "execution_count": 3,
   "metadata": {},
   "outputs": [],
   "source": [
    "data_dir = 'data/lego'\n",
    "# data_dir = 'data/chair'"
   ]
  },
  {
   "cell_type": "code",
   "execution_count": 4,
   "metadata": {},
   "outputs": [
    {
     "data": {
      "text/plain": [
       "CompletedProcess(args=['colmap', 'feature_extractor', '--image_path', 'data/chair\\\\images', '--database_path', 'data/chair\\\\database.db', '--ImageReader.single_camera', '1', '--ImageReader.camera_model', 'PINHOLE', '--SiftExtraction.use_gpu', '1'], returncode=3221226505)"
      ]
     },
     "execution_count": 4,
     "metadata": {},
     "output_type": "execute_result"
    }
   ],
   "source": [
    "# Feature extraction with shared intrinsics (assume it's the same camera)\n",
    "subprocess.run(['colmap', 'feature_extractor', '--image_path', os.path.join(data_dir, 'images'), '--database_path', os.path.join(data_dir, 'database.db'), '--ImageReader.single_camera', '1', '--ImageReader.camera_model', 'PINHOLE', '--SiftExtraction.use_gpu', '1'])\n"
   ]
  },
  {
   "cell_type": "code",
   "execution_count": 6,
   "metadata": {},
   "outputs": [
    {
     "data": {
      "text/plain": [
       "CompletedProcess(args=['colmap', 'exhaustive_matcher', '--database_path', 'data/chair\\\\database.db', '--SiftMatching.use_cpu', '1'], returncode=1)"
      ]
     },
     "execution_count": 6,
     "metadata": {},
     "output_type": "execute_result"
    }
   ],
   "source": [
    "# Feature matching\n",
    "subprocess.run(['colmap', 'exhaustive_matcher', '--database_path', os.path.join(data_dir, 'database.db'), '--SiftMatching.use_gpu', '1'])"
   ]
  },
  {
   "cell_type": "code",
   "execution_count": 4,
   "metadata": {},
   "outputs": [
    {
     "name": "stdout",
     "output_type": "stream",
     "text": [
      "COLMAP multi-view stereo pipeline completed successfully!\n",
      "Sparse 3D reconstruction saved in: data/lego\\sparse\\0_text\n"
     ]
    }
   ],
   "source": [
    "# Create sparse reconstruction folder\n",
    "os.makedirs(os.path.join(data_dir, 'sparse'), exist_ok=True)\n",
    "\n",
    "# Sparse reconstruction\n",
    "subprocess.run(['colmap', 'mapper', '--image_path', os.path.join(data_dir, 'images'), '--database_path', os.path.join(data_dir, 'database.db'), '--output_path', os.path.join(data_dir, 'sparse')])\n",
    "\n",
    "# Convert binary model to text format\n",
    "os.makedirs(os.path.join(data_dir, 'sparse', '0_text'), exist_ok=True)\n",
    "subprocess.run(['colmap', 'model_converter', '--input_path', os.path.join(data_dir, 'sparse', '0'), '--output_path', os.path.join(data_dir, 'sparse', '0_text'), '--output_type', 'TXT'])\n",
    "\n",
    "print(\"COLMAP multi-view stereo pipeline completed successfully!\")\n",
    "print(\"Sparse 3D reconstruction saved in:\", os.path.join(data_dir, 'sparse', '0_text'))\n"
   ]
  }
 ],
 "metadata": {
  "kernelspec": {
   "display_name": "Python 3.12.8 ('DIP')",
   "language": "python",
   "name": "python3"
  },
  "language_info": {
   "codemirror_mode": {
    "name": "ipython",
    "version": 3
   },
   "file_extension": ".py",
   "mimetype": "text/x-python",
   "name": "python",
   "nbconvert_exporter": "python",
   "pygments_lexer": "ipython3",
   "version": "3.12.8"
  },
  "orig_nbformat": 4,
  "vscode": {
   "interpreter": {
    "hash": "8576c209d669f9f249b4a93c88779baecf9d2c11234777ef4000968ab18e779f"
   }
  }
 },
 "nbformat": 4,
 "nbformat_minor": 2
}
